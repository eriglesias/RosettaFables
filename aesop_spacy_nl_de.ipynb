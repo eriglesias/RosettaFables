{
 "cells": [
  {
   "cell_type": "code",
   "execution_count": 1,
   "metadata": {},
   "outputs": [
    {
     "name": "stderr",
     "output_type": "stream",
     "text": [
      "2023-06-22 14:11:21.801220: I tensorflow/core/platform/cpu_feature_guard.cc:193] This TensorFlow binary is optimized with oneAPI Deep Neural Network Library (oneDNN) to use the following CPU instructions in performance-critical operations:  SSE4.1 SSE4.2\n",
      "To enable them in other operations, rebuild TensorFlow with the appropriate compiler flags.\n"
     ]
    }
   ],
   "source": [
    "import spacy\n"
   ]
  },
  {
   "cell_type": "code",
   "execution_count": 2,
   "metadata": {},
   "outputs": [
    {
     "name": "stdout",
     "output_type": "stream",
     "text": [
      "\u001b[33mDEPRECATION: https://github.com/explosion/spacy-models/releases/download/nl_core_news_lg-3.3.0/nl_core_news_lg-3.3.0-py3-none-any.whl#egg=nl_core_news_lg==3.3.0 contains an egg fragment with a non-PEP 508 name pip 25.0 will enforce this behaviour change. A possible replacement is to use the req @ url syntax, and remove the egg fragment. Discussion can be found at https://github.com/pypa/pip/issues/11617\u001b[0m\u001b[33m\n",
      "\u001b[0mCollecting nl-core-news-lg==3.3.0\n",
      "  Downloading https://github.com/explosion/spacy-models/releases/download/nl_core_news_lg-3.3.0/nl_core_news_lg-3.3.0-py3-none-any.whl (568.1 MB)\n",
      "\u001b[2K     \u001b[90m━━━━━━━━━━━━━━━━━━━━━━━━━━━━━━━━━━━━━━━\u001b[0m \u001b[32m568.1/568.1 MB\u001b[0m \u001b[31m2.9 MB/s\u001b[0m eta \u001b[36m0:00:00\u001b[0m00:01\u001b[0m00:01\u001b[0m\n",
      "\u001b[?25hRequirement already satisfied: spacy<3.4.0,>=3.3.0.dev0 in /Users/enriqueviv/opt/anaconda3/lib/python3.8/site-packages (from nl-core-news-lg==3.3.0) (3.3.1)\n",
      "Requirement already satisfied: numpy>=1.15.0 in /Users/enriqueviv/opt/anaconda3/lib/python3.8/site-packages (from spacy<3.4.0,>=3.3.0.dev0->nl-core-news-lg==3.3.0) (1.23.5)\n",
      "Requirement already satisfied: blis<0.8.0,>=0.4.0 in /Users/enriqueviv/opt/anaconda3/lib/python3.8/site-packages (from spacy<3.4.0,>=3.3.0.dev0->nl-core-news-lg==3.3.0) (0.7.7)\n",
      "Requirement already satisfied: murmurhash<1.1.0,>=0.28.0 in /Users/enriqueviv/opt/anaconda3/lib/python3.8/site-packages (from spacy<3.4.0,>=3.3.0.dev0->nl-core-news-lg==3.3.0) (1.0.7)\n",
      "Requirement already satisfied: pydantic!=1.8,!=1.8.1,<1.9.0,>=1.7.4 in /Users/enriqueviv/opt/anaconda3/lib/python3.8/site-packages (from spacy<3.4.0,>=3.3.0.dev0->nl-core-news-lg==3.3.0) (1.8.2)\n",
      "Requirement already satisfied: jinja2 in /Users/enriqueviv/opt/anaconda3/lib/python3.8/site-packages (from spacy<3.4.0,>=3.3.0.dev0->nl-core-news-lg==3.3.0) (3.1.2)\n",
      "Requirement already satisfied: requests<3.0.0,>=2.13.0 in /Users/enriqueviv/opt/anaconda3/lib/python3.8/site-packages (from spacy<3.4.0,>=3.3.0.dev0->nl-core-news-lg==3.3.0) (2.28.1)\n",
      "Requirement already satisfied: packaging>=20.0 in /Users/enriqueviv/opt/anaconda3/lib/python3.8/site-packages (from spacy<3.4.0,>=3.3.0.dev0->nl-core-news-lg==3.3.0) (23.0)\n",
      "Requirement already satisfied: langcodes<4.0.0,>=3.2.0 in /Users/enriqueviv/opt/anaconda3/lib/python3.8/site-packages (from spacy<3.4.0,>=3.3.0.dev0->nl-core-news-lg==3.3.0) (3.3.0)\n",
      "Requirement already satisfied: pathy>=0.3.5 in /Users/enriqueviv/opt/anaconda3/lib/python3.8/site-packages (from spacy<3.4.0,>=3.3.0.dev0->nl-core-news-lg==3.3.0) (0.10.1)\n",
      "Requirement already satisfied: tqdm<5.0.0,>=4.38.0 in /Users/enriqueviv/opt/anaconda3/lib/python3.8/site-packages (from spacy<3.4.0,>=3.3.0.dev0->nl-core-news-lg==3.3.0) (4.65.0)\n",
      "Requirement already satisfied: typer<0.5.0,>=0.3.0 in /Users/enriqueviv/opt/anaconda3/lib/python3.8/site-packages (from spacy<3.4.0,>=3.3.0.dev0->nl-core-news-lg==3.3.0) (0.4.1)\n",
      "Requirement already satisfied: spacy-legacy<3.1.0,>=3.0.9 in /Users/enriqueviv/opt/anaconda3/lib/python3.8/site-packages (from spacy<3.4.0,>=3.3.0.dev0->nl-core-news-lg==3.3.0) (3.0.9)\n",
      "Requirement already satisfied: spacy-loggers<2.0.0,>=1.0.0 in /Users/enriqueviv/opt/anaconda3/lib/python3.8/site-packages (from spacy<3.4.0,>=3.3.0.dev0->nl-core-news-lg==3.3.0) (1.0.1)\n",
      "Requirement already satisfied: setuptools in /Users/enriqueviv/opt/anaconda3/lib/python3.8/site-packages (from spacy<3.4.0,>=3.3.0.dev0->nl-core-news-lg==3.3.0) (66.0.0)\n",
      "Requirement already satisfied: catalogue<2.1.0,>=2.0.6 in /Users/enriqueviv/opt/anaconda3/lib/python3.8/site-packages (from spacy<3.4.0,>=3.3.0.dev0->nl-core-news-lg==3.3.0) (2.0.7)\n",
      "Requirement already satisfied: preshed<3.1.0,>=3.0.2 in /Users/enriqueviv/opt/anaconda3/lib/python3.8/site-packages (from spacy<3.4.0,>=3.3.0.dev0->nl-core-news-lg==3.3.0) (3.0.6)\n",
      "Requirement already satisfied: srsly<3.0.0,>=2.4.3 in /Users/enriqueviv/opt/anaconda3/lib/python3.8/site-packages (from spacy<3.4.0,>=3.3.0.dev0->nl-core-news-lg==3.3.0) (2.4.6)\n",
      "Requirement already satisfied: cymem<2.1.0,>=2.0.2 in /Users/enriqueviv/opt/anaconda3/lib/python3.8/site-packages (from spacy<3.4.0,>=3.3.0.dev0->nl-core-news-lg==3.3.0) (2.0.6)\n",
      "Requirement already satisfied: wasabi<1.1.0,>=0.9.1 in /Users/enriqueviv/opt/anaconda3/lib/python3.8/site-packages (from spacy<3.4.0,>=3.3.0.dev0->nl-core-news-lg==3.3.0) (0.9.1)\n",
      "Requirement already satisfied: thinc<8.1.0,>=8.0.14 in /Users/enriqueviv/opt/anaconda3/lib/python3.8/site-packages (from spacy<3.4.0,>=3.3.0.dev0->nl-core-news-lg==3.3.0) (8.0.15)\n",
      "Requirement already satisfied: smart-open<7.0.0,>=5.2.1 in /Users/enriqueviv/opt/anaconda3/lib/python3.8/site-packages (from pathy>=0.3.5->spacy<3.4.0,>=3.3.0.dev0->nl-core-news-lg==3.3.0) (5.2.1)\n",
      "Requirement already satisfied: typing-extensions>=3.7.4.3 in /Users/enriqueviv/opt/anaconda3/lib/python3.8/site-packages (from pydantic!=1.8,!=1.8.1,<1.9.0,>=1.7.4->spacy<3.4.0,>=3.3.0.dev0->nl-core-news-lg==3.3.0) (4.4.0)\n",
      "Requirement already satisfied: urllib3<1.27,>=1.21.1 in /Users/enriqueviv/opt/anaconda3/lib/python3.8/site-packages (from requests<3.0.0,>=2.13.0->spacy<3.4.0,>=3.3.0.dev0->nl-core-news-lg==3.3.0) (1.26.15)\n",
      "Requirement already satisfied: idna<4,>=2.5 in /Users/enriqueviv/opt/anaconda3/lib/python3.8/site-packages (from requests<3.0.0,>=2.13.0->spacy<3.4.0,>=3.3.0.dev0->nl-core-news-lg==3.3.0) (3.4)\n",
      "Requirement already satisfied: charset-normalizer<3,>=2 in /Users/enriqueviv/opt/anaconda3/lib/python3.8/site-packages (from requests<3.0.0,>=2.13.0->spacy<3.4.0,>=3.3.0.dev0->nl-core-news-lg==3.3.0) (2.0.11)\n",
      "Requirement already satisfied: certifi>=2017.4.17 in /Users/enriqueviv/opt/anaconda3/lib/python3.8/site-packages (from requests<3.0.0,>=2.13.0->spacy<3.4.0,>=3.3.0.dev0->nl-core-news-lg==3.3.0) (2023.5.7)\n",
      "Requirement already satisfied: click<9.0.0,>=7.1.1 in /Users/enriqueviv/opt/anaconda3/lib/python3.8/site-packages (from typer<0.5.0,>=0.3.0->spacy<3.4.0,>=3.3.0.dev0->nl-core-news-lg==3.3.0) (8.0.4)\n",
      "Requirement already satisfied: MarkupSafe>=2.0 in /Users/enriqueviv/opt/anaconda3/lib/python3.8/site-packages (from jinja2->spacy<3.4.0,>=3.3.0.dev0->nl-core-news-lg==3.3.0) (2.1.1)\n",
      "\n",
      "\u001b[1m[\u001b[0m\u001b[34;49mnotice\u001b[0m\u001b[1;39;49m]\u001b[0m\u001b[39;49m A new release of pip is available: \u001b[0m\u001b[31;49m23.1\u001b[0m\u001b[39;49m -> \u001b[0m\u001b[32;49m23.1.2\u001b[0m\n",
      "\u001b[1m[\u001b[0m\u001b[34;49mnotice\u001b[0m\u001b[1;39;49m]\u001b[0m\u001b[39;49m To update, run: \u001b[0m\u001b[32;49mpip install --upgrade pip\u001b[0m\n",
      "\u001b[38;5;2m✔ Download and installation successful\u001b[0m\n",
      "You can now load the package via spacy.load('nl_core_news_lg')\n"
     ]
    }
   ],
   "source": [
    "#download the model (with word vectors)\n",
    "!python -m spacy download nl_core_news_lg"
   ]
  },
  {
   "cell_type": "code",
   "execution_count": 3,
   "metadata": {},
   "outputs": [],
   "source": [
    "nlp = spacy.load(\"nl_core_news_lg\")"
   ]
  },
  {
   "cell_type": "code",
   "execution_count": 6,
   "metadata": {},
   "outputs": [],
   "source": [
    "with open(\"aesop_extract_nlp_nl_de.txt\", encoding=\"utf8\" ,errors='ignore') as f:\n",
    "    text = f.read()\n",
    "    "
   ]
  },
  {
   "cell_type": "code",
   "execution_count": 7,
   "metadata": {},
   "outputs": [
    {
     "name": "stdout",
     "output_type": "stream",
     "text": [
      "De Wolf en het Geitje \n",
      "\n",
      "Er was eens een klein geitje dat hoorntjes begon te krijgen en daarom dacht dat hij nu al een grote geit was. Hij liep in de wei, samen met zijn moeder en een grote kudde geiten, en zei tegen iedereen dat hij nu wel voor zichzelf kon zorgen. Elke avond gingen de geiten naar hun stal om er te slapen. Op een avond bleef het klein geitje op de wei staan.  Zijn moeder riep hem om mee naar huis te gaan. Maar hij wilde niet luisteren en bleef knabbelen aan het malse gras. \n",
      "Toen hij na een tijdje rondkeek zag hij dat zijn moeder en de andere geiten al naar huis waren. \n",
      "Hij was helemaal alleen. De zon ging onder en er kropen lange schaduwen over de grond. Een koude wind stak op en maakte akelige geluiden in het gras en in de bomen. Het geitje rilde toen het dacht aan de verschrikkelijke wolf. Hij liep snel over de weide en begon te roepen op zijn moeder. Maar hij was nog niet halfweg toen hij, naast een groepje bomen, de wolf zag staan! Het geitje was bang want het wist dat de wolf hem zou opeten. “Alstublieft, mijnheer de wolf” zei hij bevend “Ik weet dat u mij gaat opeten. Maar speel eerst op uw blokfluit een liedje voor mij, want ik wil dansen en vrolijk zijn, zolang als ik kan.” \n",
      "De wolf vond het een leuk idee om eerst een liedje te spelen vooraleer hij het geitje zou opeten. \n",
      "Hij zette zijn blokfluit aan zijn mond en speelde een liedje. Het geitje begon vrolijk te dansen en rond te springen. Maar het geluid van de blokfluit werd gehoord door de honden die de geiten beschermen. Ze herkenden het liedje van de wolf en begonnen heel hard naar de wei te lopen. De wolf hield ineens op met zijn liedje en liep snel weg. Terwijl de honden achter hem zaten was hij boos op zichzelf omdat hij zo dom was geweest. In plaats van eerst een liedje te spelen had hij beter het geitje onmiddellijk opgegeten. Laat je nooit afleiden als je iets wilt bereiken. \n",
      "De Schildpad en de Eenden.  De schildpad draagt haar huisje op haar rug. Ze kan haar huis nooit verlaten, hoe hard ze ook haar best doet.  Men zegt dat schildpadden vroeger geen huisje hadden. Op een keer nodigde een toverkoning alle dieren uit om naar zijn huwelijksfeest te komen.  De schildpad bleef liever lekker thuis en ging niet naar het feest. De koning was zo boos dat hij een huis toverde op de rug van de schildpad zodat ze altijd thuis was. Nadat ze al vele jaren met haar huisje had rondgelopen, wenste de schildpad dat ze toch naar het huwelijksfeest was  geweest. \n",
      "Ze voelde zich droevig en ontevreden. Ze zag hoe de vogels vrolijk rond vlogen, hoe de Haas en de Eekhoorn voorbij liepen en hoe alle dieren nieuwsgierig gingen kijken naar alles wat er maar te zien was. Ze wou ook de wereld zien, maar daar zat ze, met een huis op haar rug en met kleine korte pootjes waarmee ze het amper kon meedragen. Op een dag ontmoette ze een paar Eenden en vertelde hen over haar zorgen. “We kunnen je helpen om de wereld te zien,” zegden de Eenden “Hou deze stok stevig vast met je bek en we zullen je zo hoog meenemen in de lucht dat je het hele land kan zien. Maar doe je bek niet open want anders zul je vallen.” De Schildpad was heel blij. Ze nam de stok stevig in haar bek en de twee eenden namen elk een uiteinde van de stok in hun bek. En zo vlogen ze weg, helemaal tot aan de wolken. Toen kwam er een kraai naast hen vliegen. Hij was zeer verbaasd door dit vreemde schouwspel en riep: \n",
      "\n",
      "“Dit moet zeker en vast de Koning van de Schildpadden zijn!” “Jazeker...” zei de Schildpad. Maar toen hij zijn bek opendeed om deze dwaze woorden te zeggen, liet hij de stok los en viel hij heel diep neer. Hij kwam terecht op een rots en viel daar in stukken uiteen. \n",
      "Dwaze nieuwsgierigheid en grote ijdelheid brengen dikwijls ongeluk. \n",
      "\n",
      "\n",
      "\n",
      "\n",
      "\n",
      "\n",
      "De Kat de bel aanbinden\n",
      "\n",
      " \n",
      "Een Kat viel de Muizen voortdurend lastig en had al velen van hen opgegeten. De Muizen waren bang en durfden bijna niet meer uit hun holletje te komen om eten te zoeken. \n",
      "Daarom kwamen ze bij elkaar en zochten een manier om van de Kat verlost te raken. Maar geen van de Muizen had een goed idee. Daarop zei een Muis: \n",
      "“Het zou al een vooruitgang zijn indien we zouden weten wanneer de Kat in de buurt is.” Ze dachten terug na en maakten een paar plannen. Maar geen enkel plan was goed genoeg. \n",
      "Daarop stond een heel jong Muisje recht en zei: “Ik heb een heel eenvoudig plan dat zeker zal werken. Al wat we moeten doen is een bel vastbinden aan de nek van de Kat. Wanneer ze dan langskomt zullen we de bel horen en kunnen we ons verstoppen.” Alle Muizen vonden dit een heel slim plan en waren verwonderd dat ze er zelf niet aan gedacht hadden. Ze begonnen te roepen en te dansen van plezier. \n",
      "Maar toen stond een oude Muis recht en zei: \n",
      "“Ik moet zeggen dat het plan van de jonge Muis slim bedacht is. Maar ik stel jullie de vraag: Wie gaat de kat de bel aanbinden?” \n",
      "Zeggen hoe iets moet gebeuren is één ding, het echt doen is iets helemaal anders. \n",
      "\n",
      "\n",
      "De Stadsmuis en de Veldmuis. \n",
      "\n",
      "Een Stadsmuis ging op bezoek bij een familielid, welke in het veld woonde, en bleef daar eten. De Veldmuis serveerde een maaltijd van tarwe, wortels en eikels, samen met wat koud water om erbij te drinken.  De Stadsmuis at maar heel weinig en nam slechts een hapje van dit \n",
      "en een hapje van dat. Het was heel duidelijk dat ze het eenvoudige eten niet lustte en er alleen maar aan knabbelde om niet onbeleefd te zijn. Na de maaltijd begon de Stadsmuis te spreken over haar luxe leven in de stad, terwijl de Veldmuis aandachtig luisterde. Daarna gingen ze naar bed in een gezellig nestje onder de grond en sliepen rustig en ongestoord tot de volgende morgen. Terwijl ze sliep droomde de Veldmuis dat ze een Stadsmuis was en dat ze genoot van alle luxe en genoegens waarover de Stadsmuis verteld had. De volgende morgen vroeg de Stadsmuis aan de Veldmuis of ze graag mee ging naar de stad. De Veldmuis was blij en zei ja. Toen ze in de stad waren gingen ze binnen in een mooi, groot huis. In de eetkamer stond een tafel met daarop de overschotjes van een rijkelijk feestmaal. Er waren snoepjes en gelatinepudding, taartjes, heerlijke kazen, en nog veel andere zaken die muizen zo graag eten. Maar toen de Veldmuis aan een taartje wou knabbelen hoorden ze een Kat luid miauwen en krabben aan de deur. Doodsbang vluchten de muizen naar een schuilplaats en daar bleven ze lange tijd heel stil liggen; ze durfden zelfs amper ademhalen. Toen ze zich tenslotte terug naar de tafel waagden zwaaide plots de deur open. Er kwamen dienstboden binnen om de tafel af te ruimen, op de voet gevolgd door de hond van het huis. In paniek vluchtten de muisjes terug naar hun schuilplaats, welke ze veilig bereikten. Van zodra de dienstboden en de hond de kamer hadden verlaten nam de Veldmuis haar paraplu en haar handtas en zei tegen de Stadsmuis: “Je hebt meer luxe en lekkernijen dan ik heb, maar toch heb ik liever mijn eenvoudig eten en mijn nederig leventje op het platteland. En vooral de vrede en de veiligheid die erbij horen.” \n",
      "Een eenvoudig leven met rust en zekerheid is meer waard dan rijkdom temidden van angst en onzekerheid. \n",
      "\n",
      "\n",
      "\n",
      "De Vos en de druiven \n",
      "\n",
      "Op een dag zag een vos een mooie tros druiven hangen. Maar de druiven hingen heel hoog, aan een druivenrank in de takken van een boom.  Ze waren zo rijp dat het leek alsof het sap er op elk ogenblik kon uitbrasten. De vos had veel zin om de druiven op te eten en keek verlangend omhoog. Omdat de druiven zo hoog hingen probeerde hij er naartoe te springen. \n",
      "Bij de eerste sprong was hij nog een heel eind van de druiven verwijderd. Hij nam nu een aanloop en sprong opnieuw.  Maar ook nu kwam hij niet hoog genoeg. Steeds weer opnieuw sprong hij naar de druiven, maar geen enkele keer kon hij erbij. \n",
      "Moe van al het springen ging hij neerzitten en keek met tegenzin naar de druiven. “Wat een gek ben ik toch,” zei hij tenslotte “Ik zit mezelf hier moe te maken voor wat druiven die nog niet rijp en veel te zuur zijn.” \n",
      "En trots liep hij weg, met een minachtende uitdrukking op zijn gezicht. \n",
      "Veel mensen spreken minachtend en kleinerend over dingen welke buiten hun bereik liggen. \n",
      "\n",
      "De Wolf en de Kraanvogel. \n",
      "\n",
      "Een Wolf had te gulzig een kip opgegeten en een beentje was dwars in zijn keel blijven steken. Hij kon het niet meer uitspuwen en ook niet meer inslikken. Dat was natuurlijk heel erg voor een gulzige wolf. Hij liep dus naar de Kraanvogel. Hij was er zeker van dat zij, met haar lange nek en lange snavel, gemakkelijk bij het beentje kon komen en het er uit kon trekken. “Ik zal je rijkelijk belonen” zei de Wolf “wanneer je dat beentje er uit kunt nemen.” De Kraanvogel had weinig zin om haar hoofd in de muil van de wolf te steken. Maar ze wou graag de beloning en deed dus wat de Wolf vroeg.  Toen de Wolf voelde dat hij van het beentje verlost was, liep hij weg. “Maar hoe zit het met mijn beloning?” riep de Kraanvogel verontwaardigd uit. “Wat!” snauwde de Wolf, terwijl hij zich omdraaide. “Jij hebt je beloning al lang gekregen. Wees maar blij dat ik je kop niet heb afgebeten!”  Verwacht geen beloning wanneer je slechte mensen helpt. \n",
      "\n",
      "De Leeuw en de Muis. \n",
      "\n",
      "Een Leeuw lag te slapen in het bos. Zijn grote hoofd rustte op zijn voorpoten. Een kleine, bedeesde Muis kwam onverwacht in zijn buurt. Toen ze de Leeuw zag werd ze bang en rende haastig weg, maar in haar haast liep ze net voor de muil van de Leeuw. De Leeuw werd er wakker van en was boos omdat hij in zijn slaap gestoord werd. Hij legde zijn grote poot op de Muis en wilde het kleine dier dood drukken. “Spaar mij!” smeekte de arme Muis “Alstublieft, laat mij gaan. Op een dag zal ik u ook helpen.” De grote Leeuw lachte omdat de kleine Muis gezegd had dat ze hem ooit zou helpen. Maar hij had een edelmoedig hart en liet de Muis gaan.  Enkele dagen later, toen hij eten zocht in het bos, werd de leeuw gevangen in de netten van een jager. Hij kon het net niet kapot scheuren en brulde zo luid dat alle dieren in het bos het hoorden. De Muis herkende zijn stem en rende er naartoe. Ze zag hoe de Leeuw worstelde met het net maar het niet los kon maken. Ze ging naar één van de touwen waarmee het net was vastgemaakt  en begon met haar kleine scherpe tandjes aan het touw te knagen. Na een poosje was het touw doorgeknaagd en was de Leeuw terug vrij. De Muis zei tegen de Leeuw: \n",
      "\n",
      "“Je lachte toen ik zei dat ik je zou helpen. Nu heb je gezien dat zelfs een kleine Muis een grote Leeuw van dienst kan zijn.”  Een goede daad is nooit verloren moeite. \n",
      "\n",
      "\n",
      "\n",
      "\n",
      "\n",
      "\n",
      "De Wolf en zijn Schaduw \n",
      "\n",
      "Op een avond kwam een Wolf terug naar zijn hol. Hij had een uitstekend humeur en een flinke honger. \n",
      "Terwijl hij rondliep wierp de ondergaande zon zijn schaduw ver over de grond, zodat de Wolf wel honderd keer groter leek dan hij in werkelijkheid was. \n",
      "Trots riep hij uit: “Nee maar! Kijk eens hoe groot ik ben! Nu moet ik niet meer weglopen voor de Leeuw, want ik ben de grootste. Ik zal hem eens laten zien wie de echte koning van de dieren is, hij of ik.” \n",
      "Maar toen viel er over Wolf en zijn schaduw een nog veel grotere schaduw. Het volgende ogenblik sprong de Leeuw op de rug van de Wolf en at hem gulzig op. \n",
      "Zorg dat je door je fantasieën de realiteit niet vergeet. \n",
      "\n",
      "De Aap en de Kameel. \n",
      "\n",
      "Er werd een groot feest gegeven ter ere van Koning Leeuw. Aan de Aap werd gevraagd of hij voor het gezelschap wou dansen. \n",
      "Hij danste heel knap en alle dieren waren zeer tevreden over zijn sierlijke behendigheid en ze klapten in hun handen.  Hierdoor werd een Kameel erg jaloers. Hij was er zeker van dat hij even goed kon dansen als de Aap, misschien zelfs beter.  Hij baande zich een weg door de menigte die bewonderend naar de Aap stond te kijken, ging op zijn achterste poten staan en begon zelf te dansen.  Maar de grote, logge Kameel maakte zich alleen maar belachelijk toen hij zijn knobbelige benen uitsloeg en zijn lange, lompe nek in alle richtingen draaide. En door zijn gestuntel vertrapte hij bijna een paar toekijkende dieren. \n",
      "Op het einde sloeg hij zijn grote poten zover uit dat ze rakelings de neus van Koning Leeuw misten. De dieren hadden nu genoeg van de Kameel, werden kwaad en dreven hem de woestijn in.  Aap geen dingen na indien je er geen verstand van hebt. \n",
      "\n",
      "\n",
      "\n"
     ]
    }
   ],
   "source": [
    "print(text)"
   ]
  }
 ],
 "metadata": {
  "kernelspec": {
   "display_name": "Python 3",
   "language": "python",
   "name": "python3"
  },
  "language_info": {
   "codemirror_mode": {
    "name": "ipython",
    "version": 3
   },
   "file_extension": ".py",
   "mimetype": "text/x-python",
   "name": "python",
   "nbconvert_exporter": "python",
   "pygments_lexer": "ipython3",
   "version": "3.8.16"
  },
  "orig_nbformat": 4
 },
 "nbformat": 4,
 "nbformat_minor": 2
}
